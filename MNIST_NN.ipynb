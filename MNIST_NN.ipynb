{
 "cells": [
  {
   "cell_type": "markdown",
   "metadata": {},
   "source": [
    "# Classifying MNIST data using Neural Network"
   ]
  },
  {
   "cell_type": "markdown",
   "metadata": {},
   "source": [
    "MNIST is a dataset consists of 60000 28x28 grayscale (0-255) hand writing images of the 10 digits, along with a test set of 10,000 images.\n"
   ]
  },
  {
   "cell_type": "code",
   "execution_count": 80,
   "metadata": {
    "collapsed": false
   },
   "outputs": [],
   "source": [
    "from keras.models import Sequential\n",
    "from keras.layers.core import Dense, Dropout, Activation\n",
    "from keras.optimizers import SGD\n",
    "from keras.utils import np_utils\n",
    "from keras.datasets import mnist"
   ]
  },
  {
   "cell_type": "code",
   "execution_count": 81,
   "metadata": {
    "collapsed": false
   },
   "outputs": [
    {
     "name": "stdout",
     "output_type": "stream",
     "text": [
      "(60000L, 28L, 28L)\n"
     ]
    }
   ],
   "source": [
    "# Load MNIST data\n",
    "(X_train, y_train), (X_test, y_test) = mnist.load_data()\n",
    "print(X_train.shape)"
   ]
  },
  {
   "cell_type": "markdown",
   "metadata": {},
   "source": [
    "Here, we double check the training datasize (60000) and image size (28 x 28). "
   ]
  },
  {
   "cell_type": "code",
   "execution_count": 82,
   "metadata": {
    "collapsed": false
   },
   "outputs": [
    {
     "name": "stdout",
     "output_type": "stream",
     "text": [
      "60000 training samples\n",
      "10000 testing samples\n",
      "image width and image length is 28 pixels\n"
     ]
    }
   ],
   "source": [
    "nb_training_samples = X_train.shape[0]\n",
    "nb_testing_samples = X_test.shape[0]\n",
    "image_length = image_width = X_train.shape[1]\n",
    "print(\"{} training samples\").format(nb_training_samples)\n",
    "print(\"{} testing samples\").format(nb_testing_samples)\n",
    "print(\"image width and image length is {} pixels\").format(image_length)"
   ]
  },
  {
   "cell_type": "code",
   "execution_count": 83,
   "metadata": {
    "collapsed": false
   },
   "outputs": [],
   "source": [
    "input_dim = image_length*image_width\n",
    "# Reshape images from 2D to 1D as NN imput \n",
    "X_train = X_train.reshape(nb_training_samples, input_dim )\n",
    "X_test = X_test.reshape(nb_testing_samples, input_dim )\n",
    "# Cast pixel data type to float\n",
    "X_train = X_train.astype('float32')\n",
    "X_test = X_test.astype('float32')\n",
    "# Convert each pixel from 0-255 to 0.0-1.0\n",
    "X_train /= 255\n",
    "X_test /= 255"
   ]
  },
  {
   "cell_type": "code",
   "execution_count": 107,
   "metadata": {
    "collapsed": false
   },
   "outputs": [
    {
     "name": "stdout",
     "output_type": "stream",
     "text": [
      "There are total of 10 classes\n"
     ]
    }
   ],
   "source": [
    "nb_classes = len(set(y_train))\n",
    "print(\"There are total of {} classes\").format(nb_classes)"
   ]
  },
  {
   "cell_type": "markdown",
   "metadata": {},
   "source": [
    "We checked that there are indeed 10 classes. "
   ]
  },
  {
   "cell_type": "code",
   "execution_count": 109,
   "metadata": {
    "collapsed": false
   },
   "outputs": [],
   "source": [
    "# In multiclass classification tasks with cross-entropy loss,\n",
    "# we need to convert labels to one hot vector representation\n",
    "# e.g. 0-->[0,0,0,0,0,0,0,0,0,0,1]\n",
    "#      1-->[0,0,0,0,0,0,0,0,0,1,0]...\n",
    "Y_train = np_utils.to_categorical(y_train, nb_classes)\n",
    "Y_test = np_utils.to_categorical(y_test, nb_classes)"
   ]
  },
  {
   "cell_type": "code",
   "execution_count": 115,
   "metadata": {
    "collapsed": false
   },
   "outputs": [
    {
     "name": "stdout",
     "output_type": "stream",
     "text": [
      "____________________________________________________________________________________________________\n",
      "Layer (type)                       Output Shape        Param #     Connected to                     \n",
      "====================================================================================================\n",
      "dense_34 (Dense)                   (None, 800)         628000      dense_input_15[0][0]             \n",
      "____________________________________________________________________________________________________\n",
      "activation_31 (Activation)         (None, 800)         0           dense_34[0][0]                   \n",
      "____________________________________________________________________________________________________\n",
      "dropout_20 (Dropout)               (None, 800)         0           activation_31[0][0]              \n",
      "____________________________________________________________________________________________________\n",
      "dense_35 (Dense)                   (None, 10)          8010        dropout_20[0][0]                 \n",
      "____________________________________________________________________________________________________\n",
      "activation_32 (Activation)         (None, 10)          0           dense_35[0][0]                   \n",
      "====================================================================================================\n",
      "Total params: 636010\n",
      "____________________________________________________________________________________________________\n"
     ]
    }
   ],
   "source": [
    "# NN model \n",
    "model = Sequential()\n",
    "\n",
    "# First hidden layer (input dim: 784, output dim: 800)\n",
    "model.add(Dense(800, input_shape = (input_dim,), init = 'uniform'))\n",
    "# Add activation fuction\n",
    "model.add(Activation('relu'))\n",
    "# Include dropout percentange\n",
    "model.add(Dropout(0.5))\n",
    "\n",
    "# Output layer (input dim: 800 (auto-induced), output dim: nb_classes = 10)\n",
    "model.add(Dense(nb_classes, init='uniform'))\n",
    "model.add(Activation('softmax'))\n",
    "\n",
    "# Prints a summary of your model\n",
    "model.summary()"
   ]
  },
  {
   "cell_type": "code",
   "execution_count": 116,
   "metadata": {
    "collapsed": false
   },
   "outputs": [],
   "source": [
    "# Compile model before training\n",
    "model.compile(loss='categorical_crossentropy',\n",
    "              optimizer='SGD',\n",
    "              metrics=['accuracy'])"
   ]
  },
  {
   "cell_type": "code",
   "execution_count": 117,
   "metadata": {
    "collapsed": false
   },
   "outputs": [
    {
     "name": "stdout",
     "output_type": "stream",
     "text": [
      "Train on 60000 samples, validate on 10000 samples\n",
      "Epoch 1/10\n",
      "31s - loss: 1.7539 - acc: 0.5799 - val_loss: 1.2128 - val_acc: 0.8038\n",
      "Epoch 2/10\n",
      "31s - loss: 0.9985 - acc: 0.7860 - val_loss: 0.7474 - val_acc: 0.8514\n",
      "Epoch 3/10\n",
      "29s - loss: 0.7219 - acc: 0.8231 - val_loss: 0.5786 - val_acc: 0.8704\n",
      "Epoch 4/10\n",
      "30s - loss: 0.6055 - acc: 0.8434 - val_loss: 0.4968 - val_acc: 0.8806\n",
      "Epoch 5/10\n",
      "30s - loss: 0.5416 - acc: 0.8536 - val_loss: 0.4487 - val_acc: 0.8879\n",
      "Epoch 6/10\n",
      "31s - loss: 0.4987 - acc: 0.8615 - val_loss: 0.4154 - val_acc: 0.8938\n",
      "Epoch 7/10\n",
      "30s - loss: 0.4698 - acc: 0.8699 - val_loss: 0.3919 - val_acc: 0.8977\n",
      "Epoch 8/10\n",
      "31s - loss: 0.4464 - acc: 0.8743 - val_loss: 0.3738 - val_acc: 0.9009\n",
      "Epoch 9/10\n",
      "28s - loss: 0.4291 - acc: 0.8796 - val_loss: 0.3595 - val_acc: 0.9041\n",
      "Epoch 10/10\n",
      "33s - loss: 0.4121 - acc: 0.8838 - val_loss: 0.3476 - val_acc: 0.9060\n"
     ]
    }
   ],
   "source": [
    "# Train on training samples and validate on testing samples. \n",
    "history = model.fit(X_train, Y_train,\n",
    "                    batch_size=256, nb_epoch=10,\n",
    "                    verbose=2, validation_data=(X_test, Y_test))"
   ]
  },
  {
   "cell_type": "code",
   "execution_count": 119,
   "metadata": {
    "collapsed": false
   },
   "outputs": [
    {
     "name": "stdout",
     "output_type": "stream",
     "text": [
      "Test score: 0.34759791137\n",
      "Test accuracy: 0.906\n"
     ]
    }
   ],
   "source": [
    "score = model.evaluate(X_test, Y_test, verbose=2)\n",
    "print('Test score: {}').format(score[0])\n",
    "print('Test accuracy: {}').format(score[1])"
   ]
  },
  {
   "cell_type": "markdown",
   "metadata": {},
   "source": [
    "We can achieve a MNIST classification accuracy over 90% using this NN model, and the accuracy can be largely improved by tuning the number of layers, neuron units in each layer, optimization fuction, batch size, number of epoch...etc. "
   ]
  },
  {
   "cell_type": "markdown",
   "metadata": {},
   "source": [
    "Reference: https://github.com/fchollet/keras/blob/master/examples/mnist_mlp.py"
   ]
  },
  {
   "cell_type": "code",
   "execution_count": null,
   "metadata": {
    "collapsed": true
   },
   "outputs": [],
   "source": []
  }
 ],
 "metadata": {
  "kernelspec": {
   "display_name": "Python 2",
   "language": "python",
   "name": "python2"
  },
  "language_info": {
   "codemirror_mode": {
    "name": "ipython",
    "version": 2
   },
   "file_extension": ".py",
   "mimetype": "text/x-python",
   "name": "python",
   "nbconvert_exporter": "python",
   "pygments_lexer": "ipython2",
   "version": "2.7.11"
  }
 },
 "nbformat": 4,
 "nbformat_minor": 0
}
